{
 "cells": [
  {
   "cell_type": "code",
   "execution_count": 36,
   "metadata": {},
   "outputs": [],
   "source": [
    "from contextlib import AsyncExitStack\n",
    "\n",
    "from mcp import ClientSession, StdioServerParameters\n",
    "from mcp.client.stdio import stdio_client\n",
    "\n",
    "from rich.console import Console\n",
    "\n",
    "console = Console()"
   ]
  },
  {
   "cell_type": "code",
   "execution_count": 37,
   "metadata": {},
   "outputs": [],
   "source": [
    "exit_stack = AsyncExitStack()"
   ]
  },
  {
   "cell_type": "code",
   "execution_count": 38,
   "metadata": {},
   "outputs": [],
   "source": [
    "server_params = StdioServerParameters(\n",
    "    command=\"uvx\",\n",
    "    args=[\n",
    "        \"--from\",\n",
    "        \"../official-mcp-servers/src/time/\",\n",
    "        \"mcp-server-time\",\n",
    "        \"--local-timezone\",\n",
    "        \"Asia/Seoul\"   \n",
    "    ],\n",
    "    env=None\n",
    ")\n",
    "\n",
    "stdio_transport = await exit_stack.enter_async_context(stdio_client(server_params))\n",
    "stdio, write = stdio_transport"
   ]
  },
  {
   "cell_type": "code",
   "execution_count": 39,
   "metadata": {},
   "outputs": [],
   "source": [
    "session = await exit_stack.enter_async_context(ClientSession(stdio, write))"
   ]
  },
  {
   "cell_type": "code",
   "execution_count": 40,
   "metadata": {},
   "outputs": [
    {
     "data": {
      "text/html": [
       "<pre style=\"white-space:pre;overflow-x:auto;line-height:normal;font-family:Menlo,'DejaVu Sans Mono',consolas,'Courier New',monospace\"><span style=\"color: #800080; text-decoration-color: #800080; font-weight: bold\">ListToolsResult</span><span style=\"font-weight: bold\">(</span>\n",
       "    <span style=\"color: #808000; text-decoration-color: #808000\">meta</span>=<span style=\"color: #800080; text-decoration-color: #800080; font-style: italic\">None</span>,\n",
       "    <span style=\"color: #808000; text-decoration-color: #808000\">nextCursor</span>=<span style=\"color: #800080; text-decoration-color: #800080; font-style: italic\">None</span>,\n",
       "    <span style=\"color: #808000; text-decoration-color: #808000\">tools</span>=<span style=\"font-weight: bold\">[</span>\n",
       "        <span style=\"color: #800080; text-decoration-color: #800080; font-weight: bold\">Tool</span><span style=\"font-weight: bold\">(</span>\n",
       "            <span style=\"color: #808000; text-decoration-color: #808000\">name</span>=<span style=\"color: #008000; text-decoration-color: #008000\">'get_current_time'</span>,\n",
       "            <span style=\"color: #808000; text-decoration-color: #808000\">description</span>=<span style=\"color: #008000; text-decoration-color: #008000\">'Get current time in a specific timezones'</span>,\n",
       "            <span style=\"color: #808000; text-decoration-color: #808000\">inputSchema</span>=<span style=\"font-weight: bold\">{</span>\n",
       "                <span style=\"color: #008000; text-decoration-color: #008000\">'type'</span>: <span style=\"color: #008000; text-decoration-color: #008000\">'object'</span>,\n",
       "                <span style=\"color: #008000; text-decoration-color: #008000\">'properties'</span>: <span style=\"font-weight: bold\">{</span>\n",
       "                    <span style=\"color: #008000; text-decoration-color: #008000\">'timezone'</span>: <span style=\"font-weight: bold\">{</span>\n",
       "                        <span style=\"color: #008000; text-decoration-color: #008000\">'type'</span>: <span style=\"color: #008000; text-decoration-color: #008000\">'string'</span>,\n",
       "                        <span style=\"color: #008000; text-decoration-color: #008000\">'description'</span>: <span style=\"color: #008000; text-decoration-color: #008000\">\"IANA timezone name (e.g., 'America/New_York', 'Europe/London'). Use </span>\n",
       "<span style=\"color: #008000; text-decoration-color: #008000\">'Asia/Seoul' as local timezone if no timezone provided by the user.\"</span>\n",
       "                    <span style=\"font-weight: bold\">}</span>\n",
       "                <span style=\"font-weight: bold\">}</span>,\n",
       "                <span style=\"color: #008000; text-decoration-color: #008000\">'required'</span>: <span style=\"font-weight: bold\">[</span><span style=\"color: #008000; text-decoration-color: #008000\">'timezone'</span><span style=\"font-weight: bold\">]</span>\n",
       "            <span style=\"font-weight: bold\">}</span>,\n",
       "            <span style=\"color: #808000; text-decoration-color: #808000\">annotations</span>=<span style=\"color: #800080; text-decoration-color: #800080; font-style: italic\">None</span>\n",
       "        <span style=\"font-weight: bold\">)</span>,\n",
       "        <span style=\"color: #800080; text-decoration-color: #800080; font-weight: bold\">Tool</span><span style=\"font-weight: bold\">(</span>\n",
       "            <span style=\"color: #808000; text-decoration-color: #808000\">name</span>=<span style=\"color: #008000; text-decoration-color: #008000\">'convert_time'</span>,\n",
       "            <span style=\"color: #808000; text-decoration-color: #808000\">description</span>=<span style=\"color: #008000; text-decoration-color: #008000\">'Convert time between timezones'</span>,\n",
       "            <span style=\"color: #808000; text-decoration-color: #808000\">inputSchema</span>=<span style=\"font-weight: bold\">{</span>\n",
       "                <span style=\"color: #008000; text-decoration-color: #008000\">'type'</span>: <span style=\"color: #008000; text-decoration-color: #008000\">'object'</span>,\n",
       "                <span style=\"color: #008000; text-decoration-color: #008000\">'properties'</span>: <span style=\"font-weight: bold\">{</span>\n",
       "                    <span style=\"color: #008000; text-decoration-color: #008000\">'source_timezone'</span>: <span style=\"font-weight: bold\">{</span>\n",
       "                        <span style=\"color: #008000; text-decoration-color: #008000\">'type'</span>: <span style=\"color: #008000; text-decoration-color: #008000\">'string'</span>,\n",
       "                        <span style=\"color: #008000; text-decoration-color: #008000\">'description'</span>: <span style=\"color: #008000; text-decoration-color: #008000\">\"Source IANA timezone name (e.g., 'America/New_York', 'Europe/London'). Use </span>\n",
       "<span style=\"color: #008000; text-decoration-color: #008000\">'Asia/Seoul' as local timezone if no source timezone provided by the user.\"</span>\n",
       "                    <span style=\"font-weight: bold\">}</span>,\n",
       "                    <span style=\"color: #008000; text-decoration-color: #008000\">'time'</span>: <span style=\"font-weight: bold\">{</span><span style=\"color: #008000; text-decoration-color: #008000\">'type'</span>: <span style=\"color: #008000; text-decoration-color: #008000\">'string'</span>, <span style=\"color: #008000; text-decoration-color: #008000\">'description'</span>: <span style=\"color: #008000; text-decoration-color: #008000\">'Time to convert in 24-hour format (HH:MM)'</span><span style=\"font-weight: bold\">}</span>,\n",
       "                    <span style=\"color: #008000; text-decoration-color: #008000\">'target_timezone'</span>: <span style=\"font-weight: bold\">{</span>\n",
       "                        <span style=\"color: #008000; text-decoration-color: #008000\">'type'</span>: <span style=\"color: #008000; text-decoration-color: #008000\">'string'</span>,\n",
       "                        <span style=\"color: #008000; text-decoration-color: #008000\">'description'</span>: <span style=\"color: #008000; text-decoration-color: #008000\">\"Target IANA timezone name (e.g., 'Asia/Tokyo', 'America/San_Francisco'). </span>\n",
       "<span style=\"color: #008000; text-decoration-color: #008000\">Use 'Asia/Seoul' as local timezone if no target timezone provided by the user.\"</span>\n",
       "                    <span style=\"font-weight: bold\">}</span>\n",
       "                <span style=\"font-weight: bold\">}</span>,\n",
       "                <span style=\"color: #008000; text-decoration-color: #008000\">'required'</span>: <span style=\"font-weight: bold\">[</span><span style=\"color: #008000; text-decoration-color: #008000\">'source_timezone'</span>, <span style=\"color: #008000; text-decoration-color: #008000\">'time'</span>, <span style=\"color: #008000; text-decoration-color: #008000\">'target_timezone'</span><span style=\"font-weight: bold\">]</span>\n",
       "            <span style=\"font-weight: bold\">}</span>,\n",
       "            <span style=\"color: #808000; text-decoration-color: #808000\">annotations</span>=<span style=\"color: #800080; text-decoration-color: #800080; font-style: italic\">None</span>\n",
       "        <span style=\"font-weight: bold\">)</span>\n",
       "    <span style=\"font-weight: bold\">]</span>\n",
       "<span style=\"font-weight: bold\">)</span>\n",
       "</pre>\n"
      ],
      "text/plain": [
       "\u001b[1;35mListToolsResult\u001b[0m\u001b[1m(\u001b[0m\n",
       "    \u001b[33mmeta\u001b[0m=\u001b[3;35mNone\u001b[0m,\n",
       "    \u001b[33mnextCursor\u001b[0m=\u001b[3;35mNone\u001b[0m,\n",
       "    \u001b[33mtools\u001b[0m=\u001b[1m[\u001b[0m\n",
       "        \u001b[1;35mTool\u001b[0m\u001b[1m(\u001b[0m\n",
       "            \u001b[33mname\u001b[0m=\u001b[32m'get_current_time'\u001b[0m,\n",
       "            \u001b[33mdescription\u001b[0m=\u001b[32m'Get current time in a specific timezones'\u001b[0m,\n",
       "            \u001b[33minputSchema\u001b[0m=\u001b[1m{\u001b[0m\n",
       "                \u001b[32m'type'\u001b[0m: \u001b[32m'object'\u001b[0m,\n",
       "                \u001b[32m'properties'\u001b[0m: \u001b[1m{\u001b[0m\n",
       "                    \u001b[32m'timezone'\u001b[0m: \u001b[1m{\u001b[0m\n",
       "                        \u001b[32m'type'\u001b[0m: \u001b[32m'string'\u001b[0m,\n",
       "                        \u001b[32m'description'\u001b[0m: \u001b[32m\"IANA timezone name \u001b[0m\u001b[32m(\u001b[0m\u001b[32me.g., 'America/New_York', 'Europe/London'\u001b[0m\u001b[32m)\u001b[0m\u001b[32m. Use \u001b[0m\n",
       "\u001b[32m'Asia/Seoul' as local timezone if no timezone provided by the user.\"\u001b[0m\n",
       "                    \u001b[1m}\u001b[0m\n",
       "                \u001b[1m}\u001b[0m,\n",
       "                \u001b[32m'required'\u001b[0m: \u001b[1m[\u001b[0m\u001b[32m'timezone'\u001b[0m\u001b[1m]\u001b[0m\n",
       "            \u001b[1m}\u001b[0m,\n",
       "            \u001b[33mannotations\u001b[0m=\u001b[3;35mNone\u001b[0m\n",
       "        \u001b[1m)\u001b[0m,\n",
       "        \u001b[1;35mTool\u001b[0m\u001b[1m(\u001b[0m\n",
       "            \u001b[33mname\u001b[0m=\u001b[32m'convert_time'\u001b[0m,\n",
       "            \u001b[33mdescription\u001b[0m=\u001b[32m'Convert time between timezones'\u001b[0m,\n",
       "            \u001b[33minputSchema\u001b[0m=\u001b[1m{\u001b[0m\n",
       "                \u001b[32m'type'\u001b[0m: \u001b[32m'object'\u001b[0m,\n",
       "                \u001b[32m'properties'\u001b[0m: \u001b[1m{\u001b[0m\n",
       "                    \u001b[32m'source_timezone'\u001b[0m: \u001b[1m{\u001b[0m\n",
       "                        \u001b[32m'type'\u001b[0m: \u001b[32m'string'\u001b[0m,\n",
       "                        \u001b[32m'description'\u001b[0m: \u001b[32m\"Source IANA timezone name \u001b[0m\u001b[32m(\u001b[0m\u001b[32me.g., 'America/New_York', 'Europe/London'\u001b[0m\u001b[32m)\u001b[0m\u001b[32m. Use \u001b[0m\n",
       "\u001b[32m'Asia/Seoul' as local timezone if no source timezone provided by the user.\"\u001b[0m\n",
       "                    \u001b[1m}\u001b[0m,\n",
       "                    \u001b[32m'time'\u001b[0m: \u001b[1m{\u001b[0m\u001b[32m'type'\u001b[0m: \u001b[32m'string'\u001b[0m, \u001b[32m'description'\u001b[0m: \u001b[32m'Time to convert in 24-hour format \u001b[0m\u001b[32m(\u001b[0m\u001b[32mHH:MM\u001b[0m\u001b[32m)\u001b[0m\u001b[32m'\u001b[0m\u001b[1m}\u001b[0m,\n",
       "                    \u001b[32m'target_timezone'\u001b[0m: \u001b[1m{\u001b[0m\n",
       "                        \u001b[32m'type'\u001b[0m: \u001b[32m'string'\u001b[0m,\n",
       "                        \u001b[32m'description'\u001b[0m: \u001b[32m\"Target IANA timezone name \u001b[0m\u001b[32m(\u001b[0m\u001b[32me.g., 'Asia/Tokyo', 'America/San_Francisco'\u001b[0m\u001b[32m)\u001b[0m\u001b[32m. \u001b[0m\n",
       "\u001b[32mUse 'Asia/Seoul' as local timezone if no target timezone provided by the user.\"\u001b[0m\n",
       "                    \u001b[1m}\u001b[0m\n",
       "                \u001b[1m}\u001b[0m,\n",
       "                \u001b[32m'required'\u001b[0m: \u001b[1m[\u001b[0m\u001b[32m'source_timezone'\u001b[0m, \u001b[32m'time'\u001b[0m, \u001b[32m'target_timezone'\u001b[0m\u001b[1m]\u001b[0m\n",
       "            \u001b[1m}\u001b[0m,\n",
       "            \u001b[33mannotations\u001b[0m=\u001b[3;35mNone\u001b[0m\n",
       "        \u001b[1m)\u001b[0m\n",
       "    \u001b[1m]\u001b[0m\n",
       "\u001b[1m)\u001b[0m\n"
      ]
     },
     "metadata": {},
     "output_type": "display_data"
    }
   ],
   "source": [
    "await session.initialize()\n",
    "\n",
    "# List available tools\n",
    "response = await session.list_tools()\n",
    "console.print(response)"
   ]
  },
  {
   "cell_type": "code",
   "execution_count": 41,
   "metadata": {},
   "outputs": [
    {
     "data": {
      "text/html": [
       "<pre style=\"white-space:pre;overflow-x:auto;line-height:normal;font-family:Menlo,'DejaVu Sans Mono',consolas,'Courier New',monospace\"><span style=\"color: #800080; text-decoration-color: #800080; font-weight: bold\">CallToolResult</span><span style=\"font-weight: bold\">(</span>\n",
       "    <span style=\"color: #808000; text-decoration-color: #808000\">meta</span>=<span style=\"color: #800080; text-decoration-color: #800080; font-style: italic\">None</span>,\n",
       "    <span style=\"color: #808000; text-decoration-color: #808000\">content</span>=<span style=\"font-weight: bold\">[</span>\n",
       "        <span style=\"color: #800080; text-decoration-color: #800080; font-weight: bold\">TextContent</span><span style=\"font-weight: bold\">(</span>\n",
       "            <span style=\"color: #808000; text-decoration-color: #808000\">type</span>=<span style=\"color: #008000; text-decoration-color: #008000\">'text'</span>,\n",
       "            <span style=\"color: #808000; text-decoration-color: #808000\">text</span>=<span style=\"color: #008000; text-decoration-color: #008000\">'{\\n  \"timezone\": \"Asia/Seoul\",\\n  \"datetime\": \"2025-05-23T17:15:55+09:00\",\\n  \"is_dst\": </span>\n",
       "<span style=\"color: #008000; text-decoration-color: #008000\">false\\n}'</span>,\n",
       "            <span style=\"color: #808000; text-decoration-color: #808000\">annotations</span>=<span style=\"color: #800080; text-decoration-color: #800080; font-style: italic\">None</span>\n",
       "        <span style=\"font-weight: bold\">)</span>\n",
       "    <span style=\"font-weight: bold\">]</span>,\n",
       "    <span style=\"color: #808000; text-decoration-color: #808000\">isError</span>=<span style=\"color: #ff0000; text-decoration-color: #ff0000; font-style: italic\">False</span>\n",
       "<span style=\"font-weight: bold\">)</span>\n",
       "</pre>\n"
      ],
      "text/plain": [
       "\u001b[1;35mCallToolResult\u001b[0m\u001b[1m(\u001b[0m\n",
       "    \u001b[33mmeta\u001b[0m=\u001b[3;35mNone\u001b[0m,\n",
       "    \u001b[33mcontent\u001b[0m=\u001b[1m[\u001b[0m\n",
       "        \u001b[1;35mTextContent\u001b[0m\u001b[1m(\u001b[0m\n",
       "            \u001b[33mtype\u001b[0m=\u001b[32m'text'\u001b[0m,\n",
       "            \u001b[33mtext\u001b[0m=\u001b[32m'\u001b[0m\u001b[32m{\u001b[0m\u001b[32m\\n  \"timezone\": \"Asia/Seoul\",\\n  \"datetime\": \"2025-05-23T17:15:55+09:00\",\\n  \"is_dst\": \u001b[0m\n",
       "\u001b[32mfalse\\n\u001b[0m\u001b[32m}\u001b[0m\u001b[32m'\u001b[0m,\n",
       "            \u001b[33mannotations\u001b[0m=\u001b[3;35mNone\u001b[0m\n",
       "        \u001b[1m)\u001b[0m\n",
       "    \u001b[1m]\u001b[0m,\n",
       "    \u001b[33misError\u001b[0m=\u001b[3;91mFalse\u001b[0m\n",
       "\u001b[1m)\u001b[0m\n"
      ]
     },
     "metadata": {},
     "output_type": "display_data"
    }
   ],
   "source": [
    "console.print(await session.call_tool(\"get_current_time\", {\"timezone\": \"Asia/Seoul\"}))"
   ]
  },
  {
   "cell_type": "code",
   "execution_count": 42,
   "metadata": {},
   "outputs": [
    {
     "name": "stderr",
     "output_type": "stream",
     "text": [
      "  + Exception Group Traceback (most recent call last):\n",
      "  |   File \"/home/lsw91/Workspace/ai-playground-1/.venv/lib/python3.11/site-packages/anyio/_backends/_asyncio.py\", line 772, in __aexit__\n",
      "  |     raise BaseExceptionGroup(\n",
      "  | ExceptionGroup: unhandled errors in a TaskGroup (1 sub-exception)\n",
      "  +-+---------------- 1 ----------------\n",
      "    | Traceback (most recent call last):\n",
      "    |   File \"/home/lsw91/Workspace/ai-playground-1/.venv/lib/python3.11/site-packages/mcp/client/stdio/__init__.py\", line 177, in stdio_client\n",
      "    |     yield read_stream, write_stream\n",
      "    |   File \"/home/lsw91/.local/share/uv/python/cpython-3.11.10-linux-x86_64-gnu/lib/python3.11/contextlib.py\", line 728, in __aexit__\n",
      "    |     cb_suppress = await cb(*exc_details)\n",
      "    |                   ^^^^^^^^^^^^^^^^^^^^^^\n",
      "    |   File \"/home/lsw91/Workspace/ai-playground-1/.venv/lib/python3.11/site-packages/mcp/shared/session.py\", line 209, in __aexit__\n",
      "    |     return await self._task_group.__aexit__(exc_type, exc_val, exc_tb)\n",
      "    |            ^^^^^^^^^^^^^^^^^^^^^^^^^^^^^^^^^^^^^^^^^^^^^^^^^^^^^^^^^^^\n",
      "    |   File \"/home/lsw91/Workspace/ai-playground-1/.venv/lib/python3.11/site-packages/anyio/_backends/_asyncio.py\", line 783, in __aexit__\n",
      "    |     return self.cancel_scope.__exit__(exc_type, exc_val, exc_tb)\n",
      "    |            ^^^^^^^^^^^^^^^^^^^^^^^^^^^^^^^^^^^^^^^^^^^^^^^^^^^^^\n",
      "    |   File \"/home/lsw91/Workspace/ai-playground-1/.venv/lib/python3.11/site-packages/anyio/_backends/_asyncio.py\", line 457, in __exit__\n",
      "    |     raise RuntimeError(\n",
      "    | RuntimeError: Attempted to exit cancel scope in a different task than it was entered in\n",
      "    +------------------------------------\n",
      "\n",
      "During handling of the above exception, another exception occurred:\n",
      "\n",
      "Traceback (most recent call last):\n",
      "  File \"/home/lsw91/Workspace/ai-playground-1/.venv/lib/python3.11/site-packages/IPython/core/interactiveshell.py\", line 3668, in run_code\n",
      "    await eval(code_obj, self.user_global_ns, self.user_ns)\n",
      "  File \"/tmp/ipykernel_318822/3988917104.py\", line 1, in <module>\n",
      "    await exit_stack.aclose()\n",
      "  File \"/home/lsw91/.local/share/uv/python/cpython-3.11.10-linux-x86_64-gnu/lib/python3.11/contextlib.py\", line 687, in aclose\n",
      "    await self.__aexit__(None, None, None)\n",
      "  File \"/home/lsw91/.local/share/uv/python/cpython-3.11.10-linux-x86_64-gnu/lib/python3.11/contextlib.py\", line 745, in __aexit__\n",
      "    raise exc_details[1]\n",
      "  File \"/home/lsw91/.local/share/uv/python/cpython-3.11.10-linux-x86_64-gnu/lib/python3.11/contextlib.py\", line 728, in __aexit__\n",
      "    cb_suppress = await cb(*exc_details)\n",
      "                  ^^^^^^^^^^^^^^^^^^^^^^\n",
      "  File \"/home/lsw91/.local/share/uv/python/cpython-3.11.10-linux-x86_64-gnu/lib/python3.11/contextlib.py\", line 231, in __aexit__\n",
      "    await self.gen.athrow(typ, value, traceback)\n",
      "  File \"/home/lsw91/Workspace/ai-playground-1/.venv/lib/python3.11/site-packages/mcp/client/stdio/__init__.py\", line 170, in stdio_client\n",
      "    async with (\n",
      "  File \"/home/lsw91/Workspace/ai-playground-1/.venv/lib/python3.11/site-packages/anyio/_backends/_asyncio.py\", line 778, in __aexit__\n",
      "    if self.cancel_scope.__exit__(type(exc), exc, exc.__traceback__):\n",
      "       ^^^^^^^^^^^^^^^^^^^^^^^^^^^^^^^^^^^^^^^^^^^^^^^^^^^^^^^^^^^^^\n",
      "  File \"/home/lsw91/Workspace/ai-playground-1/.venv/lib/python3.11/site-packages/anyio/_backends/_asyncio.py\", line 457, in __exit__\n",
      "    raise RuntimeError(\n",
      "RuntimeError: Attempted to exit cancel scope in a different task than it was entered in\n"
     ]
    }
   ],
   "source": [
    "await exit_stack.aclose()"
   ]
  },
  {
   "cell_type": "code",
   "execution_count": 43,
   "metadata": {},
   "outputs": [
    {
     "ename": "ClosedResourceError",
     "evalue": "",
     "output_type": "error",
     "traceback": [
      "\u001b[31m---------------------------------------------------------------------------\u001b[39m",
      "\u001b[31mClosedResourceError\u001b[39m                       Traceback (most recent call last)",
      "\u001b[36mCell\u001b[39m\u001b[36m \u001b[39m\u001b[32mIn[43]\u001b[39m\u001b[32m, line 2\u001b[39m\n\u001b[32m      1\u001b[39m \u001b[38;5;66;03m# List available tools\u001b[39;00m\n\u001b[32m----> \u001b[39m\u001b[32m2\u001b[39m response = \u001b[38;5;28;01mawait\u001b[39;00m session.list_tools()\n\u001b[32m      3\u001b[39m console.print(response)\n",
      "\u001b[36mFile \u001b[39m\u001b[32m~/Workspace/ai-playground-1/.venv/lib/python3.11/site-packages/mcp/client/session.py:322\u001b[39m, in \u001b[36mClientSession.list_tools\u001b[39m\u001b[34m(self)\u001b[39m\n\u001b[32m    320\u001b[39m \u001b[38;5;28;01masync\u001b[39;00m \u001b[38;5;28;01mdef\u001b[39;00m\u001b[38;5;250m \u001b[39m\u001b[34mlist_tools\u001b[39m(\u001b[38;5;28mself\u001b[39m) -> types.ListToolsResult:\n\u001b[32m    321\u001b[39m \u001b[38;5;250m    \u001b[39m\u001b[33;03m\"\"\"Send a tools/list request.\"\"\"\u001b[39;00m\n\u001b[32m--> \u001b[39m\u001b[32m322\u001b[39m     \u001b[38;5;28;01mreturn\u001b[39;00m \u001b[38;5;28;01mawait\u001b[39;00m \u001b[38;5;28mself\u001b[39m.send_request(\n\u001b[32m    323\u001b[39m         types.ClientRequest(\n\u001b[32m    324\u001b[39m             types.ListToolsRequest(\n\u001b[32m    325\u001b[39m                 method=\u001b[33m\"\u001b[39m\u001b[33mtools/list\u001b[39m\u001b[33m\"\u001b[39m,\n\u001b[32m    326\u001b[39m             )\n\u001b[32m    327\u001b[39m         ),\n\u001b[32m    328\u001b[39m         types.ListToolsResult,\n\u001b[32m    329\u001b[39m     )\n",
      "\u001b[36mFile \u001b[39m\u001b[32m~/Workspace/ai-playground-1/.venv/lib/python3.11/site-packages/mcp/shared/session.py:243\u001b[39m, in \u001b[36mBaseSession.send_request\u001b[39m\u001b[34m(self, request, result_type, request_read_timeout_seconds, metadata)\u001b[39m\n\u001b[32m    235\u001b[39m jsonrpc_request = JSONRPCRequest(\n\u001b[32m    236\u001b[39m     jsonrpc=\u001b[33m\"\u001b[39m\u001b[33m2.0\u001b[39m\u001b[33m\"\u001b[39m,\n\u001b[32m    237\u001b[39m     \u001b[38;5;28mid\u001b[39m=request_id,\n\u001b[32m    238\u001b[39m     **request.model_dump(by_alias=\u001b[38;5;28;01mTrue\u001b[39;00m, mode=\u001b[33m\"\u001b[39m\u001b[33mjson\u001b[39m\u001b[33m\"\u001b[39m, exclude_none=\u001b[38;5;28;01mTrue\u001b[39;00m),\n\u001b[32m    239\u001b[39m )\n\u001b[32m    241\u001b[39m \u001b[38;5;66;03m# TODO: Support progress callbacks\u001b[39;00m\n\u001b[32m--> \u001b[39m\u001b[32m243\u001b[39m \u001b[38;5;28;01mawait\u001b[39;00m \u001b[38;5;28mself\u001b[39m._write_stream.send(\n\u001b[32m    244\u001b[39m     SessionMessage(\n\u001b[32m    245\u001b[39m         message=JSONRPCMessage(jsonrpc_request), metadata=metadata\n\u001b[32m    246\u001b[39m     )\n\u001b[32m    247\u001b[39m )\n\u001b[32m    249\u001b[39m \u001b[38;5;66;03m# request read timeout takes precedence over session read timeout\u001b[39;00m\n\u001b[32m    250\u001b[39m timeout = \u001b[38;5;28;01mNone\u001b[39;00m\n",
      "\u001b[36mFile \u001b[39m\u001b[32m~/Workspace/ai-playground-1/.venv/lib/python3.11/site-packages/anyio/streams/memory.py:242\u001b[39m, in \u001b[36mMemoryObjectSendStream.send\u001b[39m\u001b[34m(self, item)\u001b[39m\n\u001b[32m    240\u001b[39m \u001b[38;5;28;01mawait\u001b[39;00m checkpoint()\n\u001b[32m    241\u001b[39m \u001b[38;5;28;01mtry\u001b[39;00m:\n\u001b[32m--> \u001b[39m\u001b[32m242\u001b[39m     \u001b[38;5;28;43mself\u001b[39;49m\u001b[43m.\u001b[49m\u001b[43msend_nowait\u001b[49m\u001b[43m(\u001b[49m\u001b[43mitem\u001b[49m\u001b[43m)\u001b[49m\n\u001b[32m    243\u001b[39m \u001b[38;5;28;01mexcept\u001b[39;00m WouldBlock:\n\u001b[32m    244\u001b[39m     \u001b[38;5;66;03m# Wait until there's someone on the receiving end\u001b[39;00m\n\u001b[32m    245\u001b[39m     send_event = Event()\n",
      "\u001b[36mFile \u001b[39m\u001b[32m~/Workspace/ai-playground-1/.venv/lib/python3.11/site-packages/anyio/streams/memory.py:211\u001b[39m, in \u001b[36mMemoryObjectSendStream.send_nowait\u001b[39m\u001b[34m(self, item)\u001b[39m\n\u001b[32m    199\u001b[39m \u001b[38;5;250m\u001b[39m\u001b[33;03m\"\"\"\u001b[39;00m\n\u001b[32m    200\u001b[39m \u001b[33;03mSend an item immediately if it can be done without waiting.\u001b[39;00m\n\u001b[32m    201\u001b[39m \n\u001b[32m   (...)\u001b[39m\u001b[32m    208\u001b[39m \n\u001b[32m    209\u001b[39m \u001b[33;03m\"\"\"\u001b[39;00m\n\u001b[32m    210\u001b[39m \u001b[38;5;28;01mif\u001b[39;00m \u001b[38;5;28mself\u001b[39m._closed:\n\u001b[32m--> \u001b[39m\u001b[32m211\u001b[39m     \u001b[38;5;28;01mraise\u001b[39;00m ClosedResourceError\n\u001b[32m    212\u001b[39m \u001b[38;5;28;01mif\u001b[39;00m \u001b[38;5;129;01mnot\u001b[39;00m \u001b[38;5;28mself\u001b[39m._state.open_receive_channels:\n\u001b[32m    213\u001b[39m     \u001b[38;5;28;01mraise\u001b[39;00m BrokenResourceError\n",
      "\u001b[31mClosedResourceError\u001b[39m: "
     ]
    }
   ],
   "source": [
    "# List available tools\n",
    "response = await session.list_tools()\n",
    "console.print(response)"
   ]
  }
 ],
 "metadata": {
  "kernelspec": {
   "display_name": ".venv",
   "language": "python",
   "name": "python3"
  },
  "language_info": {
   "codemirror_mode": {
    "name": "ipython",
    "version": 3
   },
   "file_extension": ".py",
   "mimetype": "text/x-python",
   "name": "python",
   "nbconvert_exporter": "python",
   "pygments_lexer": "ipython3",
   "version": "3.11.10"
  }
 },
 "nbformat": 4,
 "nbformat_minor": 2
}
